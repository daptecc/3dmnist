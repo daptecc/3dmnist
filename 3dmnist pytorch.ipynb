{
 "cells": [
  {
   "cell_type": "code",
   "execution_count": 1,
   "metadata": {},
   "outputs": [],
   "source": [
    "import numpy as np\n",
    "import pandas as pd\n",
    "from matplotlib.pyplot import cm\n",
    "# import matplotlib.pyplot as plt\n",
    "# from mpl_toolkits import mplot3d\n",
    "import seaborn as sns\n",
    "import h5py\n",
    "\n",
    "from sklearn.model_selection import train_test_split\n",
    "from sklearn.preprocessing import OneHotEncoder\n",
    "\n",
    "from torch.utils.data import Dataset, DataLoader\n",
    "from torchvision import transforms"
   ]
  },
  {
   "cell_type": "code",
   "execution_count": 2,
   "metadata": {},
   "outputs": [
    {
     "name": "stderr",
     "output_type": "stream",
     "text": [
      "/home/d/.local/lib/python3.6/site-packages/ipykernel_launcher.py:2: H5pyDeprecationWarning: The default file mode will change to 'r' (read-only) in h5py 3.0. To suppress this warning, pass the mode you need to h5py.File(), or set the global default h5.get_config().default_file_mode, or set the environment variable H5PY_DEFAULT_READONLY=1. Available modes are: 'r', 'r+', 'w', 'w-'/'x', 'a'. See the docs for details.\n",
      "  \n"
     ]
    },
    {
     "data": {
      "text/plain": [
       "((10000, 4096), (10000,), (2000, 4096), (2000,))"
      ]
     },
     "execution_count": 2,
     "metadata": {},
     "output_type": "execute_result"
    }
   ],
   "source": [
    "path = '/home2/datasets/3dmnist'\n",
    "with h5py.File(f'{path}/full_dataset_vectors.h5') as hf:\n",
    "    X_train = hf[\"X_train\"][:]\n",
    "    y_train = hf[\"y_train\"][:]    \n",
    "    X_test = hf[\"X_test\"][:]  \n",
    "    y_test = hf[\"y_test\"][:] \n",
    "X_train.shape, y_train.shape, X_test.shape, y_test.shape"
   ]
  },
  {
   "cell_type": "code",
   "execution_count": 3,
   "metadata": {},
   "outputs": [
    {
     "data": {
      "text/plain": [
       "((8500, 4096), (1500, 4096), (8500,), (1500,))"
      ]
     },
     "execution_count": 3,
     "metadata": {},
     "output_type": "execute_result"
    }
   ],
   "source": [
    "X_train, X_val, y_train, y_val = train_test_split(X_train, y_train, test_size=0.15,\n",
    "                                                                    random_state=1, shuffle=True)\n",
    "X_train.shape, X_val.shape, y_train.shape, y_val.shape"
   ]
  },
  {
   "cell_type": "code",
   "execution_count": 4,
   "metadata": {},
   "outputs": [
    {
     "data": {
      "text/plain": [
       "torch.Size([1, 1500, 10])"
      ]
     },
     "execution_count": 4,
     "metadata": {},
     "output_type": "execute_result"
    }
   ],
   "source": [
    "transforms.ToTensor()(OneHotEncoder().fit_transform(y_val.reshape(-1, 1)).toarray()).shape"
   ]
  },
  {
   "cell_type": "code",
   "execution_count": 8,
   "metadata": {},
   "outputs": [],
   "source": [
    "class MNIST3dDataset(Dataset):\n",
    "    '''\n",
    "    '''\n",
    "    def __init__(self, X_data, y_data):\n",
    "        '''\n",
    "        add RGB dimension and reshape to 1 + 4D\n",
    "        convert labels to ohe\n",
    "        '''\n",
    "        self.X_data = self.add_rgb_to_data(X_data)\n",
    "        #self.X_data = self.X_data.reshape(-1,16,16,16,3)\n",
    "        self.y_data = OneHotEncoder().fit_transform(y_data.reshape(-1, 1))\n",
    "    \n",
    "    def __getitem__(self, idx):\n",
    "        X_data = transforms.ToTensor()(self.X_data[idx]).squeeze(0)\n",
    "        y_data = transforms.ToTensor()(self.y_data[idx].toarray()).squeeze(0).squeeze(0)\n",
    "        return X_data, y_data\n",
    "               \n",
    "    \n",
    "    def __len__(self):\n",
    "        return self.X_data.shape[0]\n",
    "    \n",
    "    def add_rgb_dimention(self, array):\n",
    "        '''\n",
    "        translate data to color\n",
    "        '''\n",
    "        scaler_map = cm.ScalarMappable(cmap=\"Oranges\")\n",
    "        array = scaler_map.to_rgba(array)[:, : -1]\n",
    "        return array\n",
    "    \n",
    "    def add_rgb_to_data(self, data):\n",
    "        '''\n",
    "        iterate dataset, add rgb dimension\n",
    "        '''\n",
    "        data_w_rgb = np.ndarray((data.shape[0], data.shape[1], 3))\n",
    "        for i in range(data.shape[0]):\n",
    "            data_w_rgb[i] = self.add_rgb_dimention(data[i])\n",
    "        return data_w_rgb\n",
    "\n",
    "def make_dataloaders(batch_size=64, n_workers=4, pin_memory=True, **kwargs):\n",
    "    '''\n",
    "    A handy function to make our dataloaders\n",
    "    '''\n",
    "    \n",
    "    dataset = MNIST3dDataset(**kwargs)\n",
    "    dataloader = DataLoader(dataset, batch_size=batch_size, num_workers=n_workers,\n",
    "                            pin_memory=pin_memory)\n",
    "    return dataloader"
   ]
  },
  {
   "cell_type": "code",
   "execution_count": 9,
   "metadata": {},
   "outputs": [],
   "source": [
    "# train_dl = make_dataloaders(X_data=X_train, y_data=y_train)\n",
    "val_dl = make_dataloaders(X_data=X_val, y_data=y_val)"
   ]
  },
  {
   "cell_type": "code",
   "execution_count": 10,
   "metadata": {},
   "outputs": [
    {
     "name": "stdout",
     "output_type": "stream",
     "text": [
      "torch.Size([64, 4096, 3]) torch.Size([64, 10])\n",
      "torch.Size([64, 4096, 3]) torch.Size([64, 10])\n",
      "torch.Size([64, 4096, 3]) torch.Size([64, 10])\n",
      "torch.Size([64, 4096, 3]) torch.Size([64, 10])\n",
      "torch.Size([64, 4096, 3]) torch.Size([64, 10])\n",
      "torch.Size([64, 4096, 3]) torch.Size([64, 10])\n",
      "torch.Size([64, 4096, 3]) torch.Size([64, 10])\n",
      "torch.Size([64, 4096, 3]) torch.Size([64, 10])\n",
      "torch.Size([64, 4096, 3]) torch.Size([64, 10])\n",
      "torch.Size([64, 4096, 3]) torch.Size([64, 10])\n",
      "torch.Size([64, 4096, 3]) torch.Size([64, 10])\n",
      "torch.Size([64, 4096, 3]) torch.Size([64, 10])\n",
      "torch.Size([64, 4096, 3]) torch.Size([64, 10])\n",
      "torch.Size([64, 4096, 3]) torch.Size([64, 10])\n",
      "torch.Size([64, 4096, 3]) torch.Size([64, 10])\n",
      "torch.Size([64, 4096, 3]) torch.Size([64, 10])\n",
      "torch.Size([64, 4096, 3]) torch.Size([64, 10])\n",
      "torch.Size([64, 4096, 3]) torch.Size([64, 10])\n",
      "torch.Size([64, 4096, 3]) torch.Size([64, 10])\n",
      "torch.Size([64, 4096, 3]) torch.Size([64, 10])\n",
      "torch.Size([64, 4096, 3]) torch.Size([64, 10])\n",
      "torch.Size([64, 4096, 3]) torch.Size([64, 10])\n",
      "torch.Size([64, 4096, 3]) torch.Size([64, 10])\n",
      "torch.Size([28, 4096, 3]) torch.Size([28, 10])\n"
     ]
    }
   ],
   "source": [
    "for X, y in val_dl:\n",
    "    print(X.shape, y.shape)"
   ]
  },
  {
   "cell_type": "code",
   "execution_count": null,
   "metadata": {},
   "outputs": [],
   "source": []
  }
 ],
 "metadata": {
  "kernelspec": {
   "display_name": "Python 3",
   "language": "python",
   "name": "python3"
  },
  "language_info": {
   "codemirror_mode": {
    "name": "ipython",
    "version": 3
   },
   "file_extension": ".py",
   "mimetype": "text/x-python",
   "name": "python",
   "nbconvert_exporter": "python",
   "pygments_lexer": "ipython3",
   "version": "3.6.8"
  }
 },
 "nbformat": 4,
 "nbformat_minor": 4
}
